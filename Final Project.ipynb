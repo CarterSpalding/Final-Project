{
 "cells": [
  {
   "cell_type": "code",
   "execution_count": 22,
   "id": "731cd9ca",
   "metadata": {},
   "outputs": [
    {
     "name": "stdout",
     "output_type": "stream",
     "text": [
      "Prince\n"
     ]
    }
   ],
   "source": [
    "import random\n",
    "wordbank={0:[\"Lincoln\",\"Drake\",\"Kesha\",\"Prince\",\"Ford\",\"Jocko\",\"Washington\"],\n",
    "          1:[\"USA\",\"England\",\"Canada\",\"Egypt\",\"Russia\",\"China\",\"Poland\"],\n",
    "         2:[\"Automobile\",\"House\",\"Hammer\",\"Smoke\",\"Waterfall\",\"Sunlight\",\"Rain\"]}\n",
    "#1=\"People\"\n",
    "#2=\"Places\"\n",
    "#3=\"Things\"\n",
    "num1=random.randint(0,2)\n",
    "num2=random.randint(0,6)\n",
    "word=str(wordbank[num1][num2])\n",
    "print(word)"
   ]
  },
  {
   "cell_type": "code",
   "execution_count": null,
   "id": "772b0b24",
   "metadata": {},
   "outputs": [],
   "source": []
  },
  {
   "cell_type": "code",
   "execution_count": null,
   "id": "8caa373d",
   "metadata": {},
   "outputs": [],
   "source": []
  }
 ],
 "metadata": {
  "kernelspec": {
   "display_name": "Python 3 (ipykernel)",
   "language": "python",
   "name": "python3"
  },
  "language_info": {
   "codemirror_mode": {
    "name": "ipython",
    "version": 3
   },
   "file_extension": ".py",
   "mimetype": "text/x-python",
   "name": "python",
   "nbconvert_exporter": "python",
   "pygments_lexer": "ipython3",
   "version": "3.9.13"
  }
 },
 "nbformat": 4,
 "nbformat_minor": 5
}
