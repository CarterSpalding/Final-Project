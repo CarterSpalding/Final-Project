{
 "cells": [
  {
   "cell_type": "code",
   "execution_count": 2,
   "id": "adc08982",
   "metadata": {},
   "outputs": [
    {
     "name": "stdout",
     "output_type": "stream",
     "text": [
      "England\n"
     ]
    }
   ],
   "source": [
    "\n",
    "import random\n",
    "wordbank={0:[\"Lincoln\",\"Drake\",\"Kesha\",\"Prince\",\"Ford\",\"Jocko\",\"Washington\"],\n",
    "          1:[\"USA\",\"England\",\"Canada\",\"Egypt\",\"Russia\",\"China\",\"Poland\"],\n",
    "         2:[\"Automobile\",\"House\",\"Hammer\",\"Smoke\",\"Waterfall\",\"Sunlight\",\"Rain\"]}\n",
    "#1=\"People\"\n",
    "#2=\"Places\"\n",
    "#3=\"Things\"\n",
    "num1=random.randint(0,2)\n",
    "num2=random.randint(0,6)\n",
    "word=str(wordbank[num1][num2])\n",
    "print(word)"
   ]
  },
  {
   "cell_type": "code",
   "execution_count": 48,
   "id": "534cbf77",
   "metadata": {},
   "outputs": [
    {
     "ename": "KeyError",
     "evalue": "3",
     "output_type": "error",
     "traceback": [
      "\u001b[1;31m---------------------------------------------------------------------------\u001b[0m",
      "\u001b[1;31mKeyError\u001b[0m                                  Traceback (most recent call last)",
      "\u001b[1;32m~\\AppData\\Local\\Temp\\ipykernel_2744\\2036377413.py\u001b[0m in \u001b[0;36m<module>\u001b[1;34m\u001b[0m\n\u001b[0;32m     78\u001b[0m     \u001b[1;32melif\u001b[0m \u001b[0mcount\u001b[0m \u001b[1;33m!=\u001b[0m \u001b[0mlimit\u001b[0m\u001b[1;33m:\u001b[0m\u001b[1;33m\u001b[0m\u001b[1;33m\u001b[0m\u001b[0m\n\u001b[0;32m     79\u001b[0m             \u001b[0mhangman\u001b[0m\u001b[1;33m(\u001b[0m\u001b[1;33m)\u001b[0m\u001b[1;33m\u001b[0m\u001b[1;33m\u001b[0m\u001b[0m\n\u001b[1;32m---> 80\u001b[1;33m \u001b[0mgamebase\u001b[0m\u001b[1;33m(\u001b[0m\u001b[1;33m)\u001b[0m\u001b[1;33m\u001b[0m\u001b[1;33m\u001b[0m\u001b[0m\n\u001b[0m\u001b[0;32m     81\u001b[0m \u001b[0mhangman\u001b[0m\u001b[1;33m(\u001b[0m\u001b[1;33m)\u001b[0m\u001b[1;33m\u001b[0m\u001b[1;33m\u001b[0m\u001b[0m\n",
      "\u001b[1;32m~\\AppData\\Local\\Temp\\ipykernel_2744\\2036377413.py\u001b[0m in \u001b[0;36mgamebase\u001b[1;34m()\u001b[0m\n\u001b[0;32m     17\u001b[0m     \u001b[0mnum1\u001b[0m\u001b[1;33m=\u001b[0m\u001b[0mrandom\u001b[0m\u001b[1;33m.\u001b[0m\u001b[0mrandint\u001b[0m\u001b[1;33m(\u001b[0m\u001b[1;36m0\u001b[0m\u001b[1;33m,\u001b[0m\u001b[1;36m3\u001b[0m\u001b[1;33m)\u001b[0m\u001b[1;33m\u001b[0m\u001b[1;33m\u001b[0m\u001b[0m\n\u001b[0;32m     18\u001b[0m     \u001b[0mnum2\u001b[0m\u001b[1;33m=\u001b[0m\u001b[0mrandom\u001b[0m\u001b[1;33m.\u001b[0m\u001b[0mrandint\u001b[0m\u001b[1;33m(\u001b[0m\u001b[1;36m0\u001b[0m\u001b[1;33m,\u001b[0m\u001b[1;36m6\u001b[0m\u001b[1;33m)\u001b[0m\u001b[1;33m\u001b[0m\u001b[1;33m\u001b[0m\u001b[0m\n\u001b[1;32m---> 19\u001b[1;33m     \u001b[0mword\u001b[0m \u001b[1;33m=\u001b[0m \u001b[0mstr\u001b[0m\u001b[1;33m(\u001b[0m\u001b[0mwordbank\u001b[0m\u001b[1;33m[\u001b[0m\u001b[0mnum1\u001b[0m\u001b[1;33m]\u001b[0m\u001b[1;33m[\u001b[0m\u001b[0mnum2\u001b[0m\u001b[1;33m]\u001b[0m\u001b[1;33m.\u001b[0m\u001b[0mlower\u001b[0m\u001b[1;33m(\u001b[0m\u001b[1;33m)\u001b[0m\u001b[1;33m)\u001b[0m\u001b[1;33m\u001b[0m\u001b[1;33m\u001b[0m\u001b[0m\n\u001b[0m\u001b[0;32m     20\u001b[0m     \u001b[0mcount\u001b[0m \u001b[1;33m=\u001b[0m \u001b[1;36m0\u001b[0m\u001b[1;33m\u001b[0m\u001b[1;33m\u001b[0m\u001b[0m\n\u001b[0;32m     21\u001b[0m     \u001b[0mdisplay\u001b[0m \u001b[1;33m=\u001b[0m \u001b[1;34m'_ '\u001b[0m \u001b[1;33m*\u001b[0m\u001b[0mlen\u001b[0m\u001b[1;33m(\u001b[0m\u001b[0mword\u001b[0m\u001b[1;33m)\u001b[0m\u001b[1;33m\u001b[0m\u001b[1;33m\u001b[0m\u001b[0m\n",
      "\u001b[1;31mKeyError\u001b[0m: 3"
     ]
    }
   ],
   "source": [
    "import random \n",
    "import time\n",
    "def gamebase():     \n",
    "    global count     \n",
    "    global display     \n",
    "    global word     \n",
    "    global already_guessed     \n",
    "    global length     \n",
    "    global play_game     \n",
    "    wordbank ={0:[\"lincoln\",\"drake\",\"kesha\",\"prince\",\"Ford\",\"Jocko\",\"Washington\"],\n",
    "              1:[\"USA\",\"England\",\"Canada\",\"Egypt\",\"Russia\",\"China\",\"Poland\"],\n",
    "               2:[\"Automobile\",\"House\",\"Hammer\",\"Smoke\",\"Waterfall\",\"Sunlight\",\"Rain\"]}\n",
    "               #0=People\n",
    "               #1=Places\n",
    "               #2=Things\n",
    "    categ=[\"People\", \"Places\", \"Things\"]\n",
    "    num1=random.randint(0,3)\n",
    "    num2=random.randint(0,6)\n",
    "    word = str(wordbank[num1][num2].lower())\n",
    "    count = 0     \n",
    "    display = '_ ' *len(word)\n",
    "    already_guessed = []\n",
    "    play_game = \"\"\n",
    "def play():\n",
    "    global play_game     \n",
    "    play_game = input(\"Do You want to play again? y = yes, n = no \\n\")     \n",
    "    while play_game not in [\"y\", \"n\",\"Y\",\"N\"]:\n",
    "        play_game = input(\"Do You want to play again? y = yes, n = no \\n\")\n",
    "        if play_game.upper()==\"Y\":       \n",
    "            gamebase()\n",
    "        elif play_game.upper()==\"N\":    \n",
    "            print(\"Thanks For Playing! We expect you back again!\")         \n",
    "            exit() \n",
    "def hangman():     \n",
    "    global count     \n",
    "    global display     \n",
    "    global word     \n",
    "    global already_guessed     \n",
    "    global play_game     \n",
    "    limit = 5     \n",
    "    guess = input(\"Your categoty is: \"+ categ[num1] + \"\\nYour gameboard: \"+ display + \" Enter a letter: \\n\")\n",
    "    guess = guess.strip()     \n",
    "    if len(guess.strip()) == 0 or len(guess.strip()) >= 2 or guess <= \"9\":\n",
    "        print(\"Invalid Input, Try a letter\\n\")         \n",
    "        hangman()     \n",
    "    elif guess in word:         \n",
    "        already_guessed.extend([guess])         \n",
    "        index = word.find(guess)         \n",
    "        word = word[:index] + \"_\" + word[index + 1:]         \n",
    "        display = display[:index] + guess + display[index + 1:]         \n",
    "        print(display + \"\\n\")     \n",
    "    elif guess in already_guessed:         \n",
    "        print(\"Try another letter.\\n\")     \n",
    "    else:         \n",
    "        count += 1  \n",
    "        if count == 1:                          \n",
    "            print(\"   _____ \\n\"                   \"  |      \\n\"                   \"  |      \\n\"                   \"  |      \\n\"                   \"  |      \\n\"                   \"  |      \\n\"                   \"  |      \\n\"                   \"__|__\\n\")             \n",
    "            print(\"Wrong guess. \" + str(limit - count) + \" guesses remaining\\n\")\n",
    "        elif count == 2:             \n",
    "            print(\"   _____ \\n\"                   \"  |     | \\n\"                   \"  |     |\\n\"                   \"  |      \\n\"                   \"  |      O\\n\"                   \"  |      \\n\"                   \"  |      \\n\"                   \"__|__\\n\")\n",
    "            print(\"Wrong guess. \" + str(limit - count) + \" guesses remaining\\n\")\n",
    "        elif count == 3:\n",
    "            print(\"   _____ \\n\"                  \"  |     | \\n\"                  \"  |     |\\n\"                  \"  |     | \\n\"                  \"  |      O\\n\"                  \"  |      |\\n\"                  \"  |      \\n\"                  \"__|__\\n\")\n",
    "            print(\"Wrong guess. \" + str(limit - count) + \" guesses remaining\\n\")\n",
    "        elif count == 4:\n",
    "            print(\"   _____ \\n\"                   \"  |     | \\n\"                   \"  |     |\\n\"                   \"  |     | \\n\"                   \"  |     O \\n\"                   \"  |    /|\\ \\n\"                   \"  |      \\n\"                   \"__|__\\n\")\n",
    "            print(\"Wrong guess. \" + str(limit - count) + \" last guess remaining\\n\")\n",
    "        elif count == 5:\n",
    "            print(\"   _____ \\n\"                   \"  |     | \\n\"                   \"  |     |\\n\"                   \"  |     | \\n\"                   \"  |     O \\n\"                   \"  |    /|\\ \\n\"                   \"  |    / \\ \\n\"                   \"__|__\\n\")\n",
    "            print(\"Wrong guess. You Lose!\\n\")\n",
    "            print(\"The word was:\",already_guessed,word)\n",
    "            play()\n",
    "            \n",
    "    if word == '_' * length:\n",
    "        print(\"Congrats! You have guessed the word correctly!\")\n",
    "        play()     \n",
    "            \n",
    "    elif count != limit:\n",
    "            hangman() \n",
    "gamebase() \n",
    "hangman()"
   ]
  },
  {
   "cell_type": "code",
   "execution_count": null,
   "id": "96ea6a79",
   "metadata": {},
   "outputs": [],
   "source": []
  },
  {
   "cell_type": "code",
   "execution_count": null,
   "id": "46399111",
   "metadata": {},
   "outputs": [],
   "source": []
  },
  {
   "cell_type": "code",
   "execution_count": null,
   "id": "080fa6db",
   "metadata": {},
   "outputs": [],
   "source": []
  },
  {
   "cell_type": "code",
   "execution_count": null,
   "id": "e5ae26db",
   "metadata": {},
   "outputs": [],
   "source": []
  }
 ],
 "metadata": {
  "kernelspec": {
   "display_name": "Python 3 (ipykernel)",
   "language": "python",
   "name": "python3"
  },
  "language_info": {
   "codemirror_mode": {
    "name": "ipython",
    "version": 3
   },
   "file_extension": ".py",
   "mimetype": "text/x-python",
   "name": "python",
   "nbconvert_exporter": "python",
   "pygments_lexer": "ipython3",
   "version": "3.9.13"
  }
 },
 "nbformat": 4,
 "nbformat_minor": 5
}
